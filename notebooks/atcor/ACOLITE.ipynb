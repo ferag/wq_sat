{
 "cells": [
  {
   "cell_type": "code",
   "execution_count": null,
   "id": "ba38c7aa",
   "metadata": {},
   "outputs": [],
   "source": [
    "import sys, os, time\n",
    "\n",
    "user_home = os.path.expanduser(\"/home\")\n",
    "acolite = 'acolite20220222'\n",
    "# acolite = 'acolite20221114'\n",
    "sys.path.append(os.path.join(user_home, acolite))\n",
    "import acolite as ac\n",
    "\n",
    "from wq_sat import config"
   ]
  },
  {
   "cell_type": "code",
   "execution_count": null,
   "id": "c8c4bdf8",
   "metadata": {},
   "outputs": [],
   "source": [
    "tiles = ['S2A_MSIL1C_20170814T105031_N0205_R051_T30TYN_20200906T184643',\n",
    "         'S2A_MSIL1C_20170824T105031_N0205_R051_T30TYN_20200819T085956',\n",
    "         'S2A_MSIL1C_20171013T105031_N0205_R051_T30TYN_20171013T105315',\n",
    "         'S2A_MSIL1C_20170913T105021_N0205_R051_T30TYN_20200802T175859',\n",
    "         'S2B_MSIL1C_20170908T105019_N0205_R051_T30TYN_20170908T105359']\n",
    "\n",
    "#'S2B_MSIL1C_20171008T105009_N0205_R051_T30TYN_20171008T105012'"
   ]
  },
  {
   "cell_type": "code",
   "execution_count": null,
   "id": "00076bbd",
   "metadata": {},
   "outputs": [],
   "source": [
    "for i, tile in enumerate(tiles):\n",
    "    \n",
    "    print('Tile {} ... {}/{}'.format(tile, i+1, len(tiles)))\n",
    "    tile_path = config.safe_path(tile)\n",
    "    \n",
    "    output_tile = config.acolite_path(tile)\n",
    "    if not os.path.isdir(output_tile):\n",
    "        os.makedirs(output_tile)\n",
    "    else:\n",
    "        continue\n",
    "\n",
    "    ## ACOLITE settings\n",
    "    settings = {\"inputfile\":tile_path,\n",
    "                \"output\":output_tile,\n",
    "                \n",
    "                ## atmospheric correction algorithms\n",
    "                \"aerosol_correction\":\"dark_spectrum\",\n",
    "                \"dsf_aot_estimate\":\"tiled\",\n",
    "\n",
    "                ## output l2w parameters\n",
    "                \"l2w_parameters\":[\"Rrs_*\", \"chl_oc3\"],\n",
    "\n",
    "                ## output resolution (S2 only 10, 20, or 60 m) \n",
    "                \"s2_target_res\":10,\n",
    "\n",
    "                ## increase default L2W masking threshold\n",
    "                \"l2w_mask_threshold\":0.05,\n",
    "                \"l2w_mask_negative_rhow\":True,\n",
    "                \"dsf_residual_glint_correction\":True,\n",
    "\n",
    "                ## output RGB / L2W maps\n",
    "                \"rgb_rhot\":False,\n",
    "                \"rgb_rhos\":False,\n",
    "                \"map_l2w\":False,\n",
    "\n",
    "                ## GeoTIFF export options\n",
    "                \"l2r_export_geotiff\":False,\n",
    "                \"l2w_export_geotiff\":True,\n",
    "               \n",
    "                ## Deletion of NetCDF files\n",
    "                \"l1r_delete_netcdf\":True,\n",
    "                \"l2r_delete_netcdf\":True,\n",
    "                \"l2w_delete_netcdf\":True,\n",
    "               \n",
    "                ##amount of detail in the terminal outputs\n",
    "                \"verbosity\":2}\n",
    "\n",
    "    ac.acolite.acolite_run(settings=settings)"
   ]
  },
  {
   "cell_type": "code",
   "execution_count": null,
   "id": "21fb7d45",
   "metadata": {},
   "outputs": [],
   "source": []
  }
 ],
 "metadata": {
  "kernelspec": {
   "display_name": "Python 3 (ipykernel)",
   "language": "python",
   "name": "python3"
  },
  "language_info": {
   "codemirror_mode": {
    "name": "ipython",
    "version": 3
   },
   "file_extension": ".py",
   "mimetype": "text/x-python",
   "name": "python",
   "nbconvert_exporter": "python",
   "pygments_lexer": "ipython3",
   "version": "3.10.6"
  }
 },
 "nbformat": 4,
 "nbformat_minor": 5
}
