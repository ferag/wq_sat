{
 "cells": [
  {
   "cell_type": "code",
   "execution_count": 1,
   "id": "19b3f41a",
   "metadata": {},
   "outputs": [],
   "source": [
    "import time\n",
    "import datetime\n",
    "import pandas as pd\n",
    "\n",
    "from wq_sat import config\n",
    "from wq_sat.download import sentinel"
   ]
  },
  {
   "cell_type": "code",
   "execution_count": null,
   "id": "fe59a652",
   "metadata": {},
   "outputs": [],
   "source": [
    "# for region in regions:\n",
    "region = 'Almendra'\n",
    "coord = config.load_coordinates(region)\n",
    "\n",
    "sd = '2022-04-10'\n",
    "ed = '2022-04-15'\n",
    "print ('region: {}'.format(region))\n",
    "print ('tiles between {} and {}'.format(sd, ed))\n",
    "\n",
    "args = {'inidate':datetime.datetime.strptime(sd, \"%Y-%m-%d\"),\n",
    "        'enddate':datetime.datetime.strptime(ed, \"%Y-%m-%d\"),\n",
    "        'coordinates':coord,\n",
    "        'platform': 'Sentinel-2',\n",
    "        'producttype':'S2MSI1C',\n",
    "        'cloud':10}\n",
    "\n",
    "#download sentinel files\n",
    "s2 = sentinel.download(**args)\n",
    "\n",
    "cont = True\n",
    "time_sleep = 3600\n",
    "\n",
    "while cont:\n",
    "    \n",
    "    hora_actual = datetime.datetime.now()    \n",
    "    downloaded, pending = s2.download()\n",
    "    \n",
    "    if len(pending) > 0:\n",
    "        time.sleep(time_sleep)\n",
    "        continue\n",
    "    else:\n",
    "        cont = False"
   ]
  }
 ],
 "metadata": {
  "kernelspec": {
   "display_name": "Python 3 (ipykernel)",
   "language": "python",
   "name": "python3"
  },
  "language_info": {
   "codemirror_mode": {
    "name": "ipython",
    "version": 3
   },
   "file_extension": ".py",
   "mimetype": "text/x-python",
   "name": "python",
   "nbconvert_exporter": "python",
   "pygments_lexer": "ipython3",
   "version": "3.10.6"
  }
 },
 "nbformat": 4,
 "nbformat_minor": 5
}
